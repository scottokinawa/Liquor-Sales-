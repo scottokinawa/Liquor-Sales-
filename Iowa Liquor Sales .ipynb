{
 "cells": [
  {
   "cell_type": "markdown",
   "metadata": {},
   "source": [
    "\n",
    "# Looking Into the Iowa Sales "
   ]
  },
  {
   "cell_type": "code",
   "execution_count": 1,
   "metadata": {},
   "outputs": [
    {
     "name": "stderr",
     "output_type": "stream",
     "text": [
      "/Users/Scott/anaconda/lib/python3.6/site-packages/statsmodels/compat/pandas.py:56: FutureWarning: The pandas.core.datetools module is deprecated and will be removed in a future version. Please use the pandas.tseries module instead.\n",
      "  from pandas.core import datetools\n"
     ]
    }
   ],
   "source": [
    "import numpy as np\n",
    "import pandas as pd\n",
    "import matplotlib.pyplot as plt\n",
    "import seaborn as sns\n",
    "import statsmodels.api as sm\n",
    "import datetime as dt\n",
    "from dateutil.parser import parse\n",
    "plt.style.use('ggplot')\n",
    "% matplotlib inline\n",
    "\n",
    "# Getting started\n",
    "\n",
    "#Once you've chosen your scenario, download the data from the Iowa website in csv format. Start by loading the data with pandas. You may need to parse the date columns appropriately."
   ]
  },
  {
   "cell_type": "markdown",
   "metadata": {},
   "source": [
    "# Problem Statement \n",
    "\n",
    "I want to find the best independent variables I can utilize to predict current and future Liquor Sales for the state of Iowa in regards to Cities. "
   ]
  },
  {
   "cell_type": "markdown",
   "metadata": {},
   "source": [
    "\n",
    "# Iowa Liquor DataSet\n",
    "\n",
    "Once you've chosen your scenario, download the data from the Iowa website in csv format. Start by loading the data with pandas. You may need to parse the date columns appropriately."
   ]
  },
  {
   "cell_type": "code",
   "execution_count": 2,
   "metadata": {},
   "outputs": [],
   "source": [
    "df = pd.read_csv('/Users/Scott/Documents/DSI6/Repo /Project 2/all_liquor_data.csv', low_memory=False)\n",
    "#df = pd.read_csv('/Users/Scott/Documents/DSI 6 /Repo /Project 2/Iowa_Liquor_sales_sample_10pct.csv')\n",
    "df['Zip Code'] = df['Zip Code'].astype(str)"
   ]
  },
  {
   "cell_type": "code",
   "execution_count": 3,
   "metadata": {
    "collapsed": true,
    "scrolled": true
   },
   "outputs": [],
   "source": [
    "df = df.rename(columns={'Zip Code': 'Zip', 'Item Description': 'Item Desc', 'Bottle Volume (ml)':'Bottle ml', 'State Bottle Cost':'btl cost','State Bottle Retail':'retail','Bottles Sold':'btl sold','Sale (Dollars)':'sold amt','Volume Sold (Liters)':'vol sold lt','Volume Sold (Gallons)':'vol sold gal'})"
   ]
  },
  {
   "cell_type": "code",
   "execution_count": 4,
   "metadata": {
    "collapsed": true
   },
   "outputs": [],
   "source": [
    "df.Date = pd.to_datetime(df.Date)"
   ]
  },
  {
   "cell_type": "code",
   "execution_count": 5,
   "metadata": {
    "collapsed": true
   },
   "outputs": [],
   "source": [
    "df.City = df.City.str.title()"
   ]
  },
  {
   "cell_type": "code",
   "execution_count": 6,
   "metadata": {
    "collapsed": true
   },
   "outputs": [],
   "source": [
    "df['year'] = df['Date'].dt.year\n",
    "df['month'] = df['Date'].dt.month\n",
    "df['day'] = df['Date'].dt.day"
   ]
  },
  {
   "cell_type": "code",
   "execution_count": 7,
   "metadata": {
    "collapsed": true
   },
   "outputs": [],
   "source": [
    "df['sold amt'] = df['sold amt'].apply(lambda x: x.replace('$', ''))\n",
    "df['btl cost'] = df['btl cost'].apply(lambda x: x.replace('$', ''))\n",
    "df['retail'] = df['retail'].apply(lambda x: x.replace('$', ''))\n",
    "#Getting rid of the dollar signs here so that it is easier to query columns "
   ]
  },
  {
   "cell_type": "code",
   "execution_count": 8,
   "metadata": {
    "collapsed": true
   },
   "outputs": [],
   "source": [
    "df['sold amt'] = df['sold amt'].astype(float)\n",
    "df['btl cost'] = df['btl cost'].astype(float)\n",
    "df['retail'] = df['retail'].astype(float)\n",
    "#Changing the type to float so that I could utilize math functions such as mean and sum"
   ]
  },
  {
   "cell_type": "code",
   "execution_count": 9,
   "metadata": {
    "collapsed": true
   },
   "outputs": [],
   "source": [
    "df = df.dropna()\n",
    "# Here because we have so much data I am dropping all the null values, to make the analysis much easier. "
   ]
  },
  {
   "cell_type": "code",
   "execution_count": 10,
   "metadata": {
    "collapsed": true
   },
   "outputs": [],
   "source": [
    "df = df[['Store Number','County','City','Category Name','retail','btl sold','sold amt','year','month']]"
   ]
  },
  {
   "cell_type": "markdown",
   "metadata": {},
   "source": [
    "# #Population Data\n",
    "\n"
   ]
  },
  {
   "cell_type": "code",
   "execution_count": 12,
   "metadata": {},
   "outputs": [],
   "source": [
    "City_Pop= pd.read_csv('/Users/Scott/Documents/DSI6/Repo /Project 2/Iowa_Pop.csv')"
   ]
  },
  {
   "cell_type": "code",
   "execution_count": 13,
   "metadata": {},
   "outputs": [
    {
     "data": {
      "text/plain": [
       "Index(['GEO.id', 'GEO.id2', 'GEO.display-label', 'HD01_VD01'], dtype='object')"
      ]
     },
     "execution_count": 13,
     "metadata": {},
     "output_type": "execute_result"
    }
   ],
   "source": [
    "City_Pop.columns"
   ]
  },
  {
   "cell_type": "code",
   "execution_count": 14,
   "metadata": {
    "collapsed": true
   },
   "outputs": [],
   "source": [
    "City_Pop = City_Pop[['GEO.display-label','HD01_VD01']]"
   ]
  },
  {
   "cell_type": "code",
   "execution_count": 15,
   "metadata": {
    "collapsed": true
   },
   "outputs": [],
   "source": [
    "City_Pop = City_Pop.drop(0)"
   ]
  },
  {
   "cell_type": "code",
   "execution_count": 16,
   "metadata": {
    "collapsed": true
   },
   "outputs": [],
   "source": [
    "City_Pop = City_Pop.rename(columns = {'GEO.display-label':'City','HD01_VD01':'city_population'})"
   ]
  },
  {
   "cell_type": "code",
   "execution_count": 17,
   "metadata": {
    "collapsed": true
   },
   "outputs": [],
   "source": [
    "City_Pop.City = City_Pop.City.apply(lambda x: x.replace(' city, Iowa',''))\n",
    "#Getting rid of the spaces that causing issues "
   ]
  },
  {
   "cell_type": "code",
   "execution_count": 18,
   "metadata": {
    "collapsed": true
   },
   "outputs": [],
   "source": [
    "City_Pop.City = City_Pop.City.apply(lambda x: x.replace(' CDP, Iowa',''))"
   ]
  },
  {
   "cell_type": "markdown",
   "metadata": {},
   "source": [
    "# #Medium Income Data \n",
    "\n"
   ]
  },
  {
   "cell_type": "code",
   "execution_count": 20,
   "metadata": {
    "scrolled": true
   },
   "outputs": [],
   "source": [
    "med_inc_iowa = pd.read_csv('/Users/Scott/Documents/DSI6/Repo /Project 2/iowa_income.csv')\n",
    "med_inc_iowa = med_inc_iowa.rename(columns = {'GEO.display-label':'City','HC01_EST_VC02':'med_income'})\n",
    "med_inc_iowa = med_inc_iowa[['City','med_income']]\n",
    "med_inc_iowa = med_inc_iowa.drop(0)\n",
    "med_inc_iowa = med_inc_iowa[med_inc_iowa.med_income != '(X)']\n",
    "med_inc_iowa.City = med_inc_iowa.City.apply(lambda x: x.replace(' city, Iowa',''))\n",
    "#Getting rid of the extra spaces "
   ]
  },
  {
   "cell_type": "markdown",
   "metadata": {},
   "source": [
    "# #Merging the Data\n",
    "\n"
   ]
  },
  {
   "cell_type": "code",
   "execution_count": 21,
   "metadata": {
    "collapsed": true
   },
   "outputs": [],
   "source": [
    "merg1 = pd.merge(df,City_Pop, on='City', how='left')"
   ]
  },
  {
   "cell_type": "code",
   "execution_count": 22,
   "metadata": {},
   "outputs": [
    {
     "data": {
      "text/plain": [
       "(2692602, 11)"
      ]
     },
     "execution_count": 22,
     "metadata": {},
     "output_type": "execute_result"
    }
   ],
   "source": [
    "alc_info = pd.merge(merg1,med_inc_iowa, on='City', how='left')\n",
    "alc_info.shape"
   ]
  },
  {
   "cell_type": "code",
   "execution_count": 23,
   "metadata": {
    "collapsed": true
   },
   "outputs": [],
   "source": [
    "alc_info = alc_info.dropna()"
   ]
  },
  {
   "cell_type": "code",
   "execution_count": 24,
   "metadata": {
    "collapsed": true
   },
   "outputs": [],
   "source": [
    "alc_info.city_population = alc_info.city_population.astype(int)\n",
    "alc_info.med_income = alc_info.med_income.astype(int)"
   ]
  },
  {
   "cell_type": "markdown",
   "metadata": {},
   "source": [
    "# Explore the data\n",
    "\n",
    "Perform some exploratory statistical analysis and make some plots, such as histograms of transaction totals, bottles sold, etc."
   ]
  },
  {
   "cell_type": "code",
   "execution_count": 25,
   "metadata": {},
   "outputs": [
    {
     "data": {
      "text/html": [
       "<div>\n",
       "<style>\n",
       "    .dataframe thead tr:only-child th {\n",
       "        text-align: right;\n",
       "    }\n",
       "\n",
       "    .dataframe thead th {\n",
       "        text-align: left;\n",
       "    }\n",
       "\n",
       "    .dataframe tbody tr th {\n",
       "        vertical-align: top;\n",
       "    }\n",
       "</style>\n",
       "<table border=\"1\" class=\"dataframe\">\n",
       "  <thead>\n",
       "    <tr style=\"text-align: right;\">\n",
       "      <th></th>\n",
       "      <th>City</th>\n",
       "      <th>city_population</th>\n",
       "      <th>btl sold</th>\n",
       "      <th>sold amt</th>\n",
       "    </tr>\n",
       "  </thead>\n",
       "  <tbody>\n",
       "    <tr>\n",
       "      <th>88</th>\n",
       "      <td>Des Moines</td>\n",
       "      <td>208020</td>\n",
       "      <td>3449619</td>\n",
       "      <td>4.422948e+07</td>\n",
       "    </tr>\n",
       "    <tr>\n",
       "      <th>50</th>\n",
       "      <td>Cedar Rapids</td>\n",
       "      <td>128829</td>\n",
       "      <td>1897734</td>\n",
       "      <td>2.428958e+07</td>\n",
       "    </tr>\n",
       "    <tr>\n",
       "      <th>79</th>\n",
       "      <td>Davenport</td>\n",
       "      <td>101863</td>\n",
       "      <td>1520121</td>\n",
       "      <td>1.732320e+07</td>\n",
       "    </tr>\n",
       "    <tr>\n",
       "      <th>299</th>\n",
       "      <td>Sioux City</td>\n",
       "      <td>82792</td>\n",
       "      <td>898635</td>\n",
       "      <td>1.183258e+07</td>\n",
       "    </tr>\n",
       "    <tr>\n",
       "      <th>168</th>\n",
       "      <td>Iowa City</td>\n",
       "      <td>71832</td>\n",
       "      <td>962162</td>\n",
       "      <td>1.276243e+07</td>\n",
       "    </tr>\n",
       "  </tbody>\n",
       "</table>\n",
       "</div>"
      ],
      "text/plain": [
       "             City  city_population  btl sold      sold amt\n",
       "88     Des Moines           208020   3449619  4.422948e+07\n",
       "50   Cedar Rapids           128829   1897734  2.428958e+07\n",
       "79      Davenport           101863   1520121  1.732320e+07\n",
       "299    Sioux City            82792    898635  1.183258e+07\n",
       "168     Iowa City            71832    962162  1.276243e+07"
      ]
     },
     "execution_count": 25,
     "metadata": {},
     "output_type": "execute_result"
    }
   ],
   "source": [
    "alc_info.groupby(['City','city_population'])['btl sold','sold amt'].sum().reset_index().sort_values('city_population', ascending = False).head()\n",
    "# Grouping by City and City Population to inspect the data"
   ]
  },
  {
   "cell_type": "markdown",
   "metadata": {},
   "source": [
    "### Does the CITY affect Bottle sales and amount sold in dollar?"
   ]
  },
  {
   "cell_type": "code",
   "execution_count": 26,
   "metadata": {
    "scrolled": false
   },
   "outputs": [
    {
     "data": {
      "image/png": "[encoded data removed]",
      "text/plain": [
       "<matplotlib.figure.Figure at 0x1296c6400>"
      ]
     },
     "metadata": {},
     "output_type": "display_data"
    }
   ],
   "source": [
    "import matplotlib as mpl\n",
    "mpl.rcParams['figure.figsize'] = (7,7)\n",
    "\n",
    "data_2015 = alc_info[alc_info['year'] == 2015]\n",
    "data_2016 = alc_info[alc_info['year'] == 2016]\n",
    "\n",
    "#city_mean1 = data_2015.groupby(['City'])['btl sold'].sum().loc[lambda x: x>150000].reset_index()\n",
    "city_mean1 = data_2015.groupby(['City'])['btl sold'].sum().loc[lambda x: x>0].reset_index()\n",
    "sns.stripplot(x=\"City\", y=\"btl sold\", data = city_mean1, size=10)\n",
    "plt.title('Btl Sold/City');\n",
    "\n",
    "\n",
    "#It does not really appear like there is a direct correlation between cities and bottles sold. There are definitely \n",
    "#some cities that are sold to vastly more than others. Des Moines for example purchases a lot more than the others as\n",
    "#it is the capital of Iowa. The data for the amount paid by the cities is similar to this. "
   ]
  },
  {
   "cell_type": "markdown",
   "metadata": {},
   "source": [
    "### Does the Month affect Bottle sales and amount sold in dollar?"
   ]
  },
  {
   "cell_type": "code",
   "execution_count": null,
   "metadata": {},
   "outputs": [],
   "source": [
    "alc_2015 = alc_info[alc_info.year == 2015]\n",
    "plt.title(\"Sold Amount Depending On Month\")\n",
    "sns.regplot('month','sold amt', data=alc_2015)\n",
    "#It appears as though month does not have too much to do with bars purchasing bottles from the state \n",
    "#It seems like October and November have outliers, but it would be hard to infer how much they really make a difference"
   ]
  },
  {
   "cell_type": "markdown",
   "metadata": {},
   "source": [
    "### Does the Population affect Bottle sales and amount sold in dollar?"
   ]
  },
  {
   "cell_type": "code",
   "execution_count": null,
   "metadata": {},
   "outputs": [],
   "source": [
    "#pop_alc = data_2015.groupby(['iowa_population'])['btl sold'].sum().loc[lambda x: x>70000].reset_index()\n",
    "pop_trend = data_2015[data_2015.city_population >10000]\n",
    "pop_alc = pop_trend.groupby(['City','city_population'])['btl sold'].sum().reset_index()\n",
    "sns.stripplot(x=\"city_population\", y=\"btl sold\", data = pop_alc, size = 8)\n",
    "plt.title('Btl Sold/Population');"
   ]
  },
  {
   "cell_type": "markdown",
   "metadata": {},
   "source": [
    "### Does the Salary affect Bottle sales and amount sold in dollar?"
   ]
  },
  {
   "cell_type": "code",
   "execution_count": null,
   "metadata": {},
   "outputs": [],
   "source": [
    "import matplotlib.ticker as ticker\n",
    "\n",
    "sns.factorplot('med_income','btl sold', data=salary_alc, size = 8)\n",
    "plt.title('Bottles Sold/ Medium City Salary ')\n",
    "plt.show()\n",
    "#I wanted this graph to show that being rich doesn't mean they buy the most alochal, but sadly there are more medium \n",
    "# income earners than rich people so it makes sense that they would have the most sales in bottles. "
   ]
  },
  {
   "cell_type": "code",
   "execution_count": null,
   "metadata": {
    "scrolled": true
   },
   "outputs": [],
   "source": [
    "city_to_store = alc_info.groupby(['City','city_population'])['Store Number'].count().reset_index()\n",
    "city_to_store['ratio'] = (city_to_store['Store Number']/city_to_store['city_population'])\n",
    "city_to_store.sort_values('ratio', ascending = False)\n",
    "#Looking into the ratio of stores per population. "
   ]
  },
  {
   "cell_type": "markdown",
   "metadata": {},
   "source": [
    "# Mining the data"
   ]
  },
  {
   "cell_type": "code",
   "execution_count": null,
   "metadata": {
    "collapsed": true
   },
   "outputs": [],
   "source": [
    "data_2015_city = pd.get_dummies(data_2015, columns = ['City'], drop_first = True)"
   ]
  },
  {
   "cell_type": "code",
   "execution_count": null,
   "metadata": {
    "collapsed": true
   },
   "outputs": [],
   "source": [
    "data_2015_city = data_2015_city.drop(['Store Number','County','Category Name','retail','btl sold','sold amt','year','month','city_population','med_income'], axis = 1)"
   ]
  },
  {
   "cell_type": "code",
   "execution_count": null,
   "metadata": {
    "collapsed": true
   },
   "outputs": [],
   "source": [
    "targets = pd.DataFrame(data_2015['sold amt'], columns=['sold amt'])\n",
    "import statsmodels.api as sm \n",
    "x = data_2015_city\n",
    "y = targets"
   ]
  },
  {
   "cell_type": "code",
   "execution_count": null,
   "metadata": {
    "collapsed": true
   },
   "outputs": [],
   "source": [
    "model = sm.OLS(y,x).fit()\n",
    "predictions = model.predict(x)\n",
    "model.summary()\n",
    "# I am telling this model to predict Y(total sold amount) based off of the city it was bought from. The R-squared \n",
    "#Value is extremely low and this does not appear to be a very good model to predict total sales off of locatoin "
   ]
  },
  {
   "cell_type": "code",
   "execution_count": null,
   "metadata": {},
   "outputs": [],
   "source": [
    "plt.scatter(predictions, y, s=30, c='r', zorder=10)\n",
    "plt.xlabel('Predicted Values')\n",
    "plt.ylabel('Actual Values Total Sales per Store/but this could be wrong')\n",
    "plt.show()\n",
    "print('MSE:', model.mse_model)"
   ]
  },
  {
   "cell_type": "markdown",
   "metadata": {},
   "source": [
    "# Model based off of price per bottle "
   ]
  },
  {
   "cell_type": "code",
   "execution_count": null,
   "metadata": {},
   "outputs": [],
   "source": [
    "targets = pd.DataFrame(data_2015['sold amt'], columns=['sold amt'])\n",
    "import statsmodels.api as sm \n",
    "x = data_2015['retail']\n",
    "y = targets\n",
    "model = sm.OLS(y,x).fit()\n",
    "predictions = model.predict(x)\n",
    "model.summary()"
   ]
  },
  {
   "cell_type": "code",
   "execution_count": null,
   "metadata": {},
   "outputs": [],
   "source": [
    "plt.scatter(predictions, y, s=30, c='r', zorder=10)\n",
    "plt.xlabel('Predicted Values')\n",
    "plt.ylabel('Actual Values Total Sales per Store')\n",
    "plt.show()\n",
    "print('MSE:', model.mse_model)\n",
    "# As the R-squared Value is very low it shows how this was not a very successful estimate regarding determing total sales\n",
    "#off of Price per bottle or the retail price. The graph is also not linear which makes sense why we have such a low \n",
    "#R squared value \n"
   ]
  },
  {
   "cell_type": "markdown",
   "metadata": {},
   "source": [
    "# Model based off of btl sold "
   ]
  },
  {
   "cell_type": "code",
   "execution_count": null,
   "metadata": {},
   "outputs": [],
   "source": [
    "targets = pd.DataFrame(data_2015['sold amt'], columns=['sold amt'])\n",
    "import statsmodels.api as sm \n",
    "x = data_2015['btl sold']\n",
    "y = targets\n",
    "model = sm.OLS(y,x).fit()\n",
    "predictions = model.predict(x)\n",
    "model.summary()"
   ]
  },
  {
   "cell_type": "code",
   "execution_count": null,
   "metadata": {},
   "outputs": [],
   "source": [
    "plt.scatter(predictions, y, s=30, c='r', zorder=10)\n",
    "plt.xlabel('Predicted Values')\n",
    "plt.ylabel('Actual Values Total Sales per Store')\n",
    "plt.show()\n",
    "print('MSE:', model.mse_model)\n",
    "\n",
    "#The Rsquared value is higher for the total bottles sold, which makes sense as bottles sold increase so would the \n",
    "# the amount the state receives from the store. Its not a hundred percent as there are different botttle prices which \n",
    "#this model isn't taking into account "
   ]
  },
  {
   "cell_type": "markdown",
   "metadata": {},
   "source": [
    "# New Better Model "
   ]
  },
  {
   "cell_type": "code",
   "execution_count": null,
   "metadata": {
    "collapsed": true
   },
   "outputs": [],
   "source": [
    "data_2015_month = pd.get_dummies(data_2015, columns = ['month'], drop_first = True)\n",
    "data_2015_macro = data_2015_month.drop(['Store Number','County','Category Name','sold amt','year','City'], axis = 1)\n"
   ]
  },
  {
   "cell_type": "code",
   "execution_count": null,
   "metadata": {},
   "outputs": [],
   "source": [
    "data_2015_macro.head()"
   ]
  },
  {
   "cell_type": "code",
   "execution_count": null,
   "metadata": {},
   "outputs": [],
   "source": [
    "targets = pd.DataFrame(data_2015['sold amt'], columns=['sold amt'])\n",
    "import statsmodels.api as sm \n",
    "x = data_2015_macro\n",
    "y = targets\n",
    "model = sm.OLS(y,x).fit()\n",
    "predictions = model.predict(x)\n",
    "model.summary()\n"
   ]
  },
  {
   "cell_type": "code",
   "execution_count": null,
   "metadata": {},
   "outputs": [],
   "source": [
    "data_2015['Predictions'] = predictions"
   ]
  },
  {
   "cell_type": "code",
   "execution_count": null,
   "metadata": {},
   "outputs": [],
   "source": [
    "plt.scatter(predictions, y, s=30, c='r', zorder=10)\n",
    "plt.xlabel('Predicted Values')\n",
    "plt.ylabel('Actual Values Total Sales per Store')\n",
    "plt.show()\n",
    "print('MSE:', model.mse_model)"
   ]
  },
  {
   "cell_type": "markdown",
   "metadata": {},
   "source": [
    "# Testing: Cross Validation with 2015 data and then with 2016 data"
   ]
  },
  {
   "cell_type": "code",
   "execution_count": null,
   "metadata": {},
   "outputs": [],
   "source": [
    "from sklearn import datasets, linear_model\n",
    "from sklearn.model_selection import train_test_split\n",
    "X_train, X_test, y_train, y_test = train_test_split(x, y, test_size=0.3)\n",
    "print(X_train.shape, y_train.shape)\n",
    "print(X_test.shape, y_test.shape)"
   ]
  },
  {
   "cell_type": "code",
   "execution_count": null,
   "metadata": {},
   "outputs": [],
   "source": [
    "lm = linear_model.LinearRegression()\n",
    "model = lm.fit(X_train, y_train)\n",
    "predictions = lm.predict(X_test)\n",
    "print(model.score(X_test, y_test))"
   ]
  },
  {
   "cell_type": "code",
   "execution_count": null,
   "metadata": {},
   "outputs": [],
   "source": [
    "plt.scatter(y_test, predictions)\n",
    "plt.xlabel(\"True Values\")\n",
    "plt.ylabel(\"Predictions\")"
   ]
  },
  {
   "cell_type": "markdown",
   "metadata": {},
   "source": [
    "## 2016 Data using the same model"
   ]
  },
  {
   "cell_type": "code",
   "execution_count": null,
   "metadata": {},
   "outputs": [],
   "source": [
    "data_2016_month = pd.get_dummies(data_2016, columns = ['month'], drop_first = True)\n",
    "data_2016_macro = data_2016_month.drop(['Store Number','County','Category Name','sold amt','year','City'], axis = 1)\n",
    "\n",
    "targets = pd.DataFrame(data_2016['sold amt'], columns=['sold amt'])\n",
    "import statsmodels.api as sm \n",
    "x = data_2016_macro\n",
    "y = targets\n",
    "model = sm.OLS(y,x).fit()\n",
    "predictions = model.predict(x)\n",
    "\n",
    "X_train, X_test, y_train, y_test = train_test_split(x, y, test_size=0.3)\n",
    "print(X_train.shape, y_train.shape)\n",
    "print(X_test.shape, y_test.shape)"
   ]
  },
  {
   "cell_type": "code",
   "execution_count": null,
   "metadata": {},
   "outputs": [],
   "source": [
    "lm = linear_model.LinearRegression()\n",
    "model = lm.fit(X_train, y_train)\n",
    "predictions = lm.predict(X_test)\n",
    "print(model.score(X_test, y_test))\n",
    "#Sadly the score went down almost 10 percent comapred to the r-squared on the previous model. "
   ]
  },
  {
   "cell_type": "code",
   "execution_count": null,
   "metadata": {},
   "outputs": [],
   "source": [
    "plt.scatter(y_test, predictions)\n",
    "plt.xlabel(\"True Values\")\n",
    "plt.ylabel(\"Predictions\")"
   ]
  },
  {
   "cell_type": "markdown",
   "metadata": {},
   "source": [
    "# Bias Variance Trade Off\n",
    "\n",
    "As I made my final model less complicated by not including a dummy variable for all the cities, I decreased the Variance by not making it too complicated. However, by doing so my bias increased. I wouldn't say it increased that much, just because I still had a decent amount of independenct variables I was using to predict my depent variable total liquor sales. "
   ]
  },
  {
   "cell_type": "markdown",
   "metadata": {},
   "source": [
    "# Table of the best Performing Stores and the Predictions "
   ]
  },
  {
   "cell_type": "code",
   "execution_count": null,
   "metadata": {},
   "outputs": [],
   "source": [
    "data_2015.groupby(['City','Store Number'])['sold amt','Predictions','city_population'].sum().sort_values('sold amt', ascending = False).head()"
   ]
  },
  {
   "cell_type": "code",
   "execution_count": null,
   "metadata": {
    "collapsed": true
   },
   "outputs": [],
   "source": [
    "city_to_store = data_2015.groupby(['City','city_population'])['Store Number'].count().reset_index()"
   ]
  },
  {
   "cell_type": "code",
   "execution_count": null,
   "metadata": {},
   "outputs": [],
   "source": [
    "city_to_store['ratio'] = (city_to_store['city_population']/city_to_store['Store Number'])\n",
    "city_to_store.sort_values('ratio', ascending = False)"
   ]
  },
  {
   "cell_type": "markdown",
   "metadata": {},
   "source": [
    "# Executive Summary\n",
    "\n",
    "\n",
    "Present your conclusions and results. If you have more than one interesting model feel free to include more than one along with a discussion. Use your work in this notebook to prepare your write-up."
   ]
  },
  {
   "cell_type": "markdown",
   "metadata": {
    "collapsed": true
   },
   "source": [
    "I understand you want to buy liquor stores in Iowa and of course the perfect location is important. After research on our end we did not find the medium household income of a city or seasonality(months of the year) to be that important toward predicting future sales. Our numbers did show that with the rise of population, one would see a rise in sales for liquor in that city. Although this may not seem very helpful, it can be utilized toward your advantage. If we know that a cities medium income and seasonality does not play that big of a role and that population size just plays a normal role in prediction total sales, we can start focusing our attention on other matters. Now that we have gotten the macro identifiers covered, I would suggest picking a location were the micro differences could start affecting liquor sales. For instance the fixed costs, water, electirc and salaries of employees. Our company could look further into identifying the cheapest rent for the biggest value of return. As city location and seasonality do not play a major role, you can also decide one which city culture maybe fits your vibe. "
   ]
  }
 ],
 "metadata": {
  "anaconda-cloud": {},
  "kernelspec": {
   "display_name": "Python 3",
   "language": "python",
   "name": "python3"
  },
  "language_info": {
   "codemirror_mode": {
    "name": "ipython",
    "version": 3
   },
   "file_extension": ".py",
   "mimetype": "text/x-python",
   "name": "python",
   "nbconvert_exporter": "python",
   "pygments_lexer": "ipython3",
   "version": "3.6.2"
  }
 },
 "nbformat": 4,
 "nbformat_minor": 1
}
