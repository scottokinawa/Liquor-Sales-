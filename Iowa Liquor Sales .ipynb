{
 "cells": [
  {
   "cell_type": "markdown",
   "metadata": {},
   "source": [
    "\n",
    "# Looking Into the Iowa Sales "
   ]
  },
  {
   "cell_type": "code",
   "execution_count": 1,
   "metadata": {},
   "outputs": [
    {
     "name": "stderr",
     "output_type": "stream",
     "text": [
      "/Users/Scott/anaconda/lib/python3.6/site-packages/statsmodels/compat/pandas.py:56: FutureWarning: The pandas.core.datetools module is deprecated and will be removed in a future version. Please use the pandas.tseries module instead.\n",
      "  from pandas.core import datetools\n"
     ]
    }
   ],
   "source": [
    "import numpy as np\n",
    "import pandas as pd\n",
    "import matplotlib.pyplot as plt\n",
    "import seaborn as sns\n",
    "import statsmodels.api as sm\n",
    "import datetime as dt\n",
    "from dateutil.parser import parse\n",
    "plt.style.use('ggplot')\n",
    "% matplotlib inline\n",
    "\n",
    "# Getting started\n",
    "\n",
    "#Once you've chosen your scenario, download the data from the Iowa website in csv format. Start by loading the data with pandas. You may need to parse the date columns appropriately."
   ]
  },
  {
   "cell_type": "markdown",
   "metadata": {},
   "source": [
    "# Problem Statement \n",
    "\n",
    "I want to find the best independent variables I can utilize to predict current and future Liquor Sales for the state of Iowa in regards to Cities. "
   ]
  },
  {
   "cell_type": "markdown",
   "metadata": {},
   "source": [
    "\n",
    "# Iowa Liquor DataSet\n",
    "\n",
    "Once you've chosen your scenario, download the data from the Iowa website in csv format. Start by loading the data with pandas. You may need to parse the date columns appropriately."
   ]
  },
  {
   "cell_type": "code",
   "execution_count": 2,
   "metadata": {
    "collapsed": true
   },
   "outputs": [],
   "source": [
    "df = pd.read_csv('/Users/Scott/Documents/DSI6/Repo /Iowa_Liquor_Data/Iowa_Liquor_sales_sample_10pct.csv', low_memory=False)\n",
    "#df = pd.read_csv('/Users/Scott/Documents/DSI 6 /Repo /Project 2/Iowa_Liquor_sales_sample_10pct.csv')\n",
    "df['Zip Code'] = df['Zip Code'].astype(str)"
   ]
  },
  {
   "cell_type": "code",
   "execution_count": 3,
   "metadata": {
    "collapsed": true,
    "scrolled": true
   },
   "outputs": [],
   "source": [
    "df = df.rename(columns={'Zip Code': 'Zip', 'Item Description': 'Item Desc', 'Bottle Volume (ml)':'Bottle ml', 'State Bottle Cost':'btl cost','State Bottle Retail':'retail','Bottles Sold':'btl sold','Sale (Dollars)':'sold amt','Volume Sold (Liters)':'vol sold lt','Volume Sold (Gallons)':'vol sold gal'})"
   ]
  },
  {
   "cell_type": "code",
   "execution_count": 4,
   "metadata": {
    "collapsed": true
   },
   "outputs": [],
   "source": [
    "df.Date = pd.to_datetime(df.Date)"
   ]
  },
  {
   "cell_type": "code",
   "execution_count": 5,
   "metadata": {
    "collapsed": true
   },
   "outputs": [],
   "source": [
    "df.City = df.City.str.title()"
   ]
  },
  {
   "cell_type": "code",
   "execution_count": 6,
   "metadata": {
    "collapsed": true
   },
   "outputs": [],
   "source": [
    "df['year'] = df['Date'].dt.year\n",
    "df['month'] = df['Date'].dt.month\n",
    "df['day'] = df['Date'].dt.day"
   ]
  },
  {
   "cell_type": "code",
   "execution_count": 7,
   "metadata": {
    "collapsed": true
   },
   "outputs": [],
   "source": [
    "df['sold amt'] = df['sold amt'].apply(lambda x: x.replace('$', ''))\n",
    "df['btl cost'] = df['btl cost'].apply(lambda x: x.replace('$', ''))\n",
    "df['retail'] = df['retail'].apply(lambda x: x.replace('$', ''))\n",
    "#Getting rid of the dollar signs here so that it is easier to query columns "
   ]
  },
  {
   "cell_type": "code",
   "execution_count": 8,
   "metadata": {
    "collapsed": true
   },
   "outputs": [],
   "source": [
    "df['sold amt'] = df['sold amt'].astype(float)\n",
    "df['btl cost'] = df['btl cost'].astype(float)\n",
    "df['retail'] = df['retail'].astype(float)\n",
    "#Changing the type to float so that I could utilize math functions such as mean and sum"
   ]
  },
  {
   "cell_type": "code",
   "execution_count": 9,
   "metadata": {
    "collapsed": true
   },
   "outputs": [],
   "source": [
    "df = df.dropna()\n",
    "# Here because we have so much data I am dropping all the null values, to make the analysis much easier. "
   ]
  },
  {
   "cell_type": "code",
   "execution_count": 10,
   "metadata": {
    "collapsed": true
   },
   "outputs": [],
   "source": [
    "df = df[['Store Number','County','City','Category Name','retail','btl sold','sold amt','year','month']]"
   ]
  },
  {
   "cell_type": "markdown",
   "metadata": {},
   "source": [
    "# #Population Data\n",
    "\n"
   ]
  },
  {
   "cell_type": "code",
   "execution_count": 11,
   "metadata": {
    "collapsed": true
   },
   "outputs": [],
   "source": [
    "City_Pop= pd.read_csv('/Users/Scott/Documents/DSI6/Repo /Iowa_Liquor_Data/Iowa_Pop.csv')"
   ]
  },
  {
   "cell_type": "code",
   "execution_count": 12,
   "metadata": {},
   "outputs": [
    {
     "data": {
      "text/plain": [
       "Index(['GEO.id', 'GEO.id2', 'GEO.display-label', 'HD01_VD01'], dtype='object')"
      ]
     },
     "execution_count": 12,
     "metadata": {},
     "output_type": "execute_result"
    }
   ],
   "source": [
    "City_Pop.columns"
   ]
  },
  {
   "cell_type": "code",
   "execution_count": 13,
   "metadata": {
    "collapsed": true
   },
   "outputs": [],
   "source": [
    "City_Pop = City_Pop[['GEO.display-label','HD01_VD01']]"
   ]
  },
  {
   "cell_type": "code",
   "execution_count": 14,
   "metadata": {
    "collapsed": true
   },
   "outputs": [],
   "source": [
    "City_Pop = City_Pop.drop(0)"
   ]
  },
  {
   "cell_type": "code",
   "execution_count": 15,
   "metadata": {
    "collapsed": true
   },
   "outputs": [],
   "source": [
    "City_Pop = City_Pop.rename(columns = {'GEO.display-label':'City','HD01_VD01':'city_population'})"
   ]
  },
  {
   "cell_type": "code",
   "execution_count": 16,
   "metadata": {
    "collapsed": true
   },
   "outputs": [],
   "source": [
    "City_Pop.City = City_Pop.City.apply(lambda x: x.replace(' city, Iowa',''))\n",
    "#Getting rid of the spaces that causing issues "
   ]
  },
  {
   "cell_type": "code",
   "execution_count": 17,
   "metadata": {
    "collapsed": true
   },
   "outputs": [],
   "source": [
    "City_Pop.City = City_Pop.City.apply(lambda x: x.replace(' CDP, Iowa',''))"
   ]
  },
  {
   "cell_type": "markdown",
   "metadata": {},
   "source": [
    "# #Medium Income Data \n",
    "\n"
   ]
  },
  {
   "cell_type": "code",
   "execution_count": 18,
   "metadata": {
    "collapsed": true,
    "scrolled": true
   },
   "outputs": [],
   "source": [
    "med_inc_iowa = pd.read_csv('/Users/Scott/Documents/DSI6/Repo /Iowa_Liquor_Data/iowa_income.csv')\n",
    "med_inc_iowa = med_inc_iowa.rename(columns = {'GEO.display-label':'City','HC01_EST_VC02':'med_income'})\n",
    "med_inc_iowa = med_inc_iowa[['City','med_income']]\n",
    "med_inc_iowa = med_inc_iowa.drop(0)\n",
    "med_inc_iowa = med_inc_iowa[med_inc_iowa.med_income != '(X)']\n",
    "med_inc_iowa.City = med_inc_iowa.City.apply(lambda x: x.replace(' city, Iowa',''))\n",
    "#Getting rid of the extra spaces "
   ]
  },
  {
   "cell_type": "markdown",
   "metadata": {},
   "source": [
    "# #Merging the Data\n",
    "\n"
   ]
  },
  {
   "cell_type": "code",
   "execution_count": 19,
   "metadata": {
    "collapsed": true
   },
   "outputs": [],
   "source": [
    "merg1 = pd.merge(df,City_Pop, on='City', how='left')"
   ]
  },
  {
   "cell_type": "code",
   "execution_count": 20,
   "metadata": {},
   "outputs": [
    {
     "data": {
      "text/plain": [
       "(269258, 11)"
      ]
     },
     "execution_count": 20,
     "metadata": {},
     "output_type": "execute_result"
    }
   ],
   "source": [
    "alc_info = pd.merge(merg1,med_inc_iowa, on='City', how='left')\n",
    "alc_info.shape"
   ]
  },
  {
   "cell_type": "code",
   "execution_count": 21,
   "metadata": {
    "collapsed": true
   },
   "outputs": [],
   "source": [
    "alc_info = alc_info.dropna()"
   ]
  },
  {
   "cell_type": "code",
   "execution_count": 22,
   "metadata": {
    "collapsed": true
   },
   "outputs": [],
   "source": [
    "alc_info.city_population = alc_info.city_population.astype(int)\n",
    "alc_info.med_income = alc_info.med_income.astype(int)"
   ]
  },
  {
   "cell_type": "markdown",
   "metadata": {},
   "source": [
    "# Explore the data\n",
    "\n",
    "Perform some exploratory statistical analysis and make some plots, such as histograms of transaction totals, bottles sold, etc."
   ]
  },
  {
   "cell_type": "code",
   "execution_count": 23,
   "metadata": {},
   "outputs": [
    {
     "data": {
      "text/html": [
       "<div>\n",
       "<style>\n",
       "    .dataframe thead tr:only-child th {\n",
       "        text-align: right;\n",
       "    }\n",
       "\n",
       "    .dataframe thead th {\n",
       "        text-align: left;\n",
       "    }\n",
       "\n",
       "    .dataframe tbody tr th {\n",
       "        vertical-align: top;\n",
       "    }\n",
       "</style>\n",
       "<table border=\"1\" class=\"dataframe\">\n",
       "  <thead>\n",
       "    <tr style=\"text-align: right;\">\n",
       "      <th></th>\n",
       "      <th>City</th>\n",
       "      <th>city_population</th>\n",
       "      <th>btl sold</th>\n",
       "      <th>sold amt</th>\n",
       "    </tr>\n",
       "  </thead>\n",
       "  <tbody>\n",
       "    <tr>\n",
       "      <th>88</th>\n",
       "      <td>Des Moines</td>\n",
       "      <td>208020</td>\n",
       "      <td>344643</td>\n",
       "      <td>4384044.19</td>\n",
       "    </tr>\n",
       "    <tr>\n",
       "      <th>50</th>\n",
       "      <td>Cedar Rapids</td>\n",
       "      <td>128829</td>\n",
       "      <td>194525</td>\n",
       "      <td>2486949.08</td>\n",
       "    </tr>\n",
       "    <tr>\n",
       "      <th>79</th>\n",
       "      <td>Davenport</td>\n",
       "      <td>101863</td>\n",
       "      <td>153200</td>\n",
       "      <td>1697702.84</td>\n",
       "    </tr>\n",
       "    <tr>\n",
       "      <th>299</th>\n",
       "      <td>Sioux City</td>\n",
       "      <td>82792</td>\n",
       "      <td>90757</td>\n",
       "      <td>1200607.02</td>\n",
       "    </tr>\n",
       "    <tr>\n",
       "      <th>168</th>\n",
       "      <td>Iowa City</td>\n",
       "      <td>71832</td>\n",
       "      <td>93923</td>\n",
       "      <td>1250666.19</td>\n",
       "    </tr>\n",
       "  </tbody>\n",
       "</table>\n",
       "</div>"
      ],
      "text/plain": [
       "             City  city_population  btl sold    sold amt\n",
       "88     Des Moines           208020    344643  4384044.19\n",
       "50   Cedar Rapids           128829    194525  2486949.08\n",
       "79      Davenport           101863    153200  1697702.84\n",
       "299    Sioux City            82792     90757  1200607.02\n",
       "168     Iowa City            71832     93923  1250666.19"
      ]
     },
     "execution_count": 23,
     "metadata": {},
     "output_type": "execute_result"
    }
   ],
   "source": [
    "alc_info.groupby(['City','city_population'])['btl sold','sold amt'].sum().reset_index().sort_values('city_population', ascending = False).head()\n",
    "# Grouping by City and City Population to inspect the data"
   ]
  },
  {
   "cell_type": "markdown",
   "metadata": {},
   "source": [
    "### Does the CITY affect Bottle sales and amount sold in dollar?"
   ]
  },
  {
   "cell_type": "code",
   "execution_count": 24,
   "metadata": {
    "scrolled": false
   },
   "outputs": [
    {
     "data": {
      "image/png": "[encoded data removed]",
      "text/plain": [
       "<matplotlib.figure.Figure at 0x1064baeb8>"
      ]
     },
     "metadata": {},
     "output_type": "display_data"
    }
   ],
   "source": [
    "import matplotlib as mpl\n",
    "mpl.rcParams['figure.figsize'] = (7,7)\n",
    "\n",
    "data_2015 = alc_info[alc_info['year'] == 2015]\n",
    "data_2016 = alc_info[alc_info['year'] == 2016]\n",
    "\n",
    "#city_mean1 = data_2015.groupby(['City'])['btl sold'].sum().loc[lambda x: x>150000].reset_index()\n",
    "city_mean1 = data_2015.groupby(['City'])['btl sold'].sum().loc[lambda x: x>0].reset_index()\n",
    "sns.stripplot(x=\"City\", y=\"btl sold\", data = city_mean1, size=10)\n",
    "plt.title('Btl Sold/City');\n",
    "\n",
    "\n",
    "#It does not really appear like there is a direct correlation between cities and bottles sold. There are definitely \n",
    "#some cities that are sold to vastly more than others. Des Moines for example purchases a lot more than the others as\n",
    "#it is the capital of Iowa. The data for the amount paid by the cities is similar to this. "
   ]
  },
  {
   "cell_type": "markdown",
   "metadata": {},
   "source": [
    "### Does the Month affect Bottle sales and amount sold in dollar?"
   ]
  },
  {
   "cell_type": "code",
   "execution_count": 25,
   "metadata": {},
   "outputs": [
    {
     "data": {
      "text/plain": [
       "<matplotlib.axes._subplots.AxesSubplot at 0x1064ba470>"
      ]
     },
     "execution_count": 25,
     "metadata": {},
     "output_type": "execute_result"
    },
    {
     "data": {
      "image/png": "[encoded data removed]",
      "text/plain": [
       "<matplotlib.figure.Figure at 0x11c7d6630>"
      ]
     },
     "metadata": {},
     "output_type": "display_data"
    }
   ],
   "source": [
    "alc_2015 = alc_info[alc_info.year == 2015]\n",
    "plt.title(\"Sold Amount Depending On Month\")\n",
    "sns.regplot('month','sold amt', data=alc_2015)\n",
    "#It appears as though month does not have too much to do with bars purchasing bottles from the state \n",
    "#It seems like October and November have outliers, but it would be hard to infer how much they really make a difference"
   ]
  },
  {
   "cell_type": "markdown",
   "metadata": {},
   "source": [
    "### Does the Population affect Bottle sales and amount sold in dollar?"
   ]
  },
  {
   "cell_type": "code",
   "execution_count": 26,
   "metadata": {},
   "outputs": [
    {
     "data": {
      "image/png": "[encoded data removed]",
      "text/plain": [
       "<matplotlib.figure.Figure at 0x11b0be438>"
      ]
     },
     "metadata": {},
     "output_type": "display_data"
    }
   ],
   "source": [
    "#pop_alc = data_2015.groupby(['iowa_population'])['btl sold'].sum().loc[lambda x: x>70000].reset_index()\n",
    "pop_trend = data_2015[data_2015.city_population >10000]\n",
    "pop_alc = pop_trend.groupby(['City','city_population'])['btl sold'].sum().reset_index()\n",
    "sns.stripplot(x=\"city_population\", y=\"btl sold\", data = pop_alc, size = 8)\n",
    "plt.title('Btl Sold/Population');"
   ]
  },
  {
   "cell_type": "code",
   "execution_count": 27,
   "metadata": {
    "scrolled": true
   },
   "outputs": [
    {
     "data": {
      "text/html": [
       "<div>\n",
       "<style>\n",
       "    .dataframe thead tr:only-child th {\n",
       "        text-align: right;\n",
       "    }\n",
       "\n",
       "    .dataframe thead th {\n",
       "        text-align: left;\n",
       "    }\n",
       "\n",
       "    .dataframe tbody tr th {\n",
       "        vertical-align: top;\n",
       "    }\n",
       "</style>\n",
       "<table border=\"1\" class=\"dataframe\">\n",
       "  <thead>\n",
       "    <tr style=\"text-align: right;\">\n",
       "      <th></th>\n",
       "      <th>City</th>\n",
       "      <th>city_population</th>\n",
       "      <th>Store Number</th>\n",
       "      <th>ratio</th>\n",
       "    </tr>\n",
       "  </thead>\n",
       "  <tbody>\n",
       "    <tr>\n",
       "      <th>279</th>\n",
       "      <td>Robins</td>\n",
       "      <td>3357</td>\n",
       "      <td>2</td>\n",
       "      <td>0.000596</td>\n",
       "    </tr>\n",
       "    <tr>\n",
       "      <th>144</th>\n",
       "      <td>Griswold</td>\n",
       "      <td>1111</td>\n",
       "      <td>5</td>\n",
       "      <td>0.004500</td>\n",
       "    </tr>\n",
       "    <tr>\n",
       "      <th>218</th>\n",
       "      <td>Melbourne</td>\n",
       "      <td>891</td>\n",
       "      <td>6</td>\n",
       "      <td>0.006734</td>\n",
       "    </tr>\n",
       "    <tr>\n",
       "      <th>9</th>\n",
       "      <td>Alta</td>\n",
       "      <td>2056</td>\n",
       "      <td>14</td>\n",
       "      <td>0.006809</td>\n",
       "    </tr>\n",
       "    <tr>\n",
       "      <th>198</th>\n",
       "      <td>Lohrville</td>\n",
       "      <td>371</td>\n",
       "      <td>3</td>\n",
       "      <td>0.008086</td>\n",
       "    </tr>\n",
       "  </tbody>\n",
       "</table>\n",
       "</div>"
      ],
      "text/plain": [
       "          City  city_population  Store Number     ratio\n",
       "279     Robins             3357             2  0.000596\n",
       "144   Griswold             1111             5  0.004500\n",
       "218  Melbourne              891             6  0.006734\n",
       "9         Alta             2056            14  0.006809\n",
       "198  Lohrville              371             3  0.008086"
      ]
     },
     "execution_count": 27,
     "metadata": {},
     "output_type": "execute_result"
    }
   ],
   "source": [
    "city_to_store = alc_info.groupby(['City','city_population'])['Store Number'].count().reset_index()\n",
    "city_to_store['ratio'] = (city_to_store['Store Number']/city_to_store['city_population'])\n",
    "city_to_store.sort_values('ratio', ascending = True).head()\n",
    "#Looking into the ratio of stores per population. "
   ]
  },
  {
   "cell_type": "markdown",
   "metadata": {},
   "source": [
    "# Mining the data"
   ]
  },
  {
   "cell_type": "code",
   "execution_count": 28,
   "metadata": {
    "collapsed": true
   },
   "outputs": [],
   "source": [
    "data_2015_city = pd.get_dummies(data_2015, columns = ['City'], drop_first = True)"
   ]
  },
  {
   "cell_type": "code",
   "execution_count": 29,
   "metadata": {
    "collapsed": true
   },
   "outputs": [],
   "source": [
    "data_2015_city = data_2015_city.drop(['Store Number','County','Category Name','retail','btl sold','sold amt','year','month','city_population','med_income'], axis = 1)"
   ]
  },
  {
   "cell_type": "code",
   "execution_count": 30,
   "metadata": {
    "collapsed": true
   },
   "outputs": [],
   "source": [
    "targets = pd.DataFrame(data_2015['sold amt'], columns=['sold amt'])\n",
    "import statsmodels.api as sm \n",
    "x = data_2015_city\n",
    "y = targets"
   ]
  },
  {
   "cell_type": "markdown",
   "metadata": {},
   "source": [
    "# Model based off of price per bottle "
   ]
  },
  {
   "cell_type": "code",
   "execution_count": 33,
   "metadata": {},
   "outputs": [
    {
     "data": {
      "text/html": [
       "<table class=\"simpletable\">\n",
       "<caption>OLS Regression Results</caption>\n",
       "<tr>\n",
       "  <th>Dep. Variable:</th>        <td>sold amt</td>     <th>  R-squared:         </th>  <td>   0.112</td>  \n",
       "</tr>\n",
       "<tr>\n",
       "  <th>Model:</th>                   <td>OLS</td>       <th>  Adj. R-squared:    </th>  <td>   0.112</td>  \n",
       "</tr>\n",
       "<tr>\n",
       "  <th>Method:</th>             <td>Least Squares</td>  <th>  F-statistic:       </th>  <td>2.725e+04</td> \n",
       "</tr>\n",
       "<tr>\n",
       "  <th>Date:</th>             <td>Wed, 03 Jan 2018</td> <th>  Prob (F-statistic):</th>   <td>  0.00</td>   \n",
       "</tr>\n",
       "<tr>\n",
       "  <th>Time:</th>                 <td>17:44:44</td>     <th>  Log-Likelihood:    </th> <td>-1.5901e+06</td>\n",
       "</tr>\n",
       "<tr>\n",
       "  <th>No. Observations:</th>      <td>215628</td>      <th>  AIC:               </th>  <td>3.180e+06</td> \n",
       "</tr>\n",
       "<tr>\n",
       "  <th>Df Residuals:</th>          <td>215627</td>      <th>  BIC:               </th>  <td>3.180e+06</td> \n",
       "</tr>\n",
       "<tr>\n",
       "  <th>Df Model:</th>              <td>     1</td>      <th>                     </th>      <td> </td>     \n",
       "</tr>\n",
       "<tr>\n",
       "  <th>Covariance Type:</th>      <td>nonrobust</td>    <th>                     </th>      <td> </td>     \n",
       "</tr>\n",
       "</table>\n",
       "<table class=\"simpletable\">\n",
       "<tr>\n",
       "     <td></td>       <th>coef</th>     <th>std err</th>      <th>t</th>      <th>P>|t|</th>  <th>[0.025</th>    <th>0.975]</th>  \n",
       "</tr>\n",
       "<tr>\n",
       "  <th>retail</th> <td>    7.5976</td> <td>    0.046</td> <td>  165.083</td> <td> 0.000</td> <td>    7.507</td> <td>    7.688</td>\n",
       "</tr>\n",
       "</table>\n",
       "<table class=\"simpletable\">\n",
       "<tr>\n",
       "  <th>Omnibus:</th>       <td>516304.369</td> <th>  Durbin-Watson:     </th>    <td>   1.995</td>    \n",
       "</tr>\n",
       "<tr>\n",
       "  <th>Prob(Omnibus):</th>   <td> 0.000</td>   <th>  Jarque-Bera (JB):  </th> <td>10708544311.230</td>\n",
       "</tr>\n",
       "<tr>\n",
       "  <th>Skew:</th>            <td>24.476</td>   <th>  Prob(JB):          </th>    <td>    0.00</td>    \n",
       "</tr>\n",
       "<tr>\n",
       "  <th>Kurtosis:</th>       <td>1093.640</td>  <th>  Cond. No.          </th>    <td>    1.00</td>    \n",
       "</tr>\n",
       "</table>"
      ],
      "text/plain": [
       "<class 'statsmodels.iolib.summary.Summary'>\n",
       "\"\"\"\n",
       "                            OLS Regression Results                            \n",
       "==============================================================================\n",
       "Dep. Variable:               sold amt   R-squared:                       0.112\n",
       "Model:                            OLS   Adj. R-squared:                  0.112\n",
       "Method:                 Least Squares   F-statistic:                 2.725e+04\n",
       "Date:                Wed, 03 Jan 2018   Prob (F-statistic):               0.00\n",
       "Time:                        17:44:44   Log-Likelihood:            -1.5901e+06\n",
       "No. Observations:              215628   AIC:                         3.180e+06\n",
       "Df Residuals:                  215627   BIC:                         3.180e+06\n",
       "Df Model:                           1                                         \n",
       "Covariance Type:            nonrobust                                         \n",
       "==============================================================================\n",
       "                 coef    std err          t      P>|t|      [0.025      0.975]\n",
       "------------------------------------------------------------------------------\n",
       "retail         7.5976      0.046    165.083      0.000       7.507       7.688\n",
       "==============================================================================\n",
       "Omnibus:                   516304.369   Durbin-Watson:                   1.995\n",
       "Prob(Omnibus):                  0.000   Jarque-Bera (JB):      10708544311.230\n",
       "Skew:                          24.476   Prob(JB):                         0.00\n",
       "Kurtosis:                    1093.640   Cond. No.                         1.00\n",
       "==============================================================================\n",
       "\n",
       "Warnings:\n",
       "[1] Standard Errors assume that the covariance matrix of the errors is correctly specified.\n",
       "\"\"\""
      ]
     },
     "execution_count": 33,
     "metadata": {},
     "output_type": "execute_result"
    }
   ],
   "source": [
    "targets = pd.DataFrame(data_2015['sold amt'], columns=['sold amt'])\n",
    "import statsmodels.api as sm \n",
    "x = data_2015['retail']\n",
    "y = targets\n",
    "model = sm.OLS(y,x).fit()\n",
    "predictions = model.predict(x)\n",
    "model.summary()"
   ]
  },
  {
   "cell_type": "code",
   "execution_count": 34,
   "metadata": {},
   "outputs": [
    {
     "data": {
      "image/png": "[encoded data removed]",
      "text/plain": [
       "<matplotlib.figure.Figure at 0x11b1b9710>"
      ]
     },
     "metadata": {},
     "output_type": "display_data"
    },
    {
     "name": "stdout",
     "output_type": "stream",
     "text": [
      "MSE: 4054767385.69\n"
     ]
    }
   ],
   "source": [
    "plt.scatter(predictions, y, s=30, c='r', zorder=10)\n",
    "plt.xlabel('Predicted Values')\n",
    "plt.ylabel('Actual Values Total Sales per Store')\n",
    "plt.show()\n",
    "print('MSE:', model.mse_model)\n",
    "# As the R-squared Value is very low it shows how this was not a very successful estimate regarding determing total sales\n",
    "#off of Price per bottle or the retail price. The graph is also not linear which makes sense why we have such a low \n",
    "#R squared value \n"
   ]
  },
  {
   "cell_type": "markdown",
   "metadata": {},
   "source": [
    "# Model based off of btl sold "
   ]
  },
  {
   "cell_type": "code",
   "execution_count": 35,
   "metadata": {},
   "outputs": [
    {
     "data": {
      "text/html": [
       "<table class=\"simpletable\">\n",
       "<caption>OLS Regression Results</caption>\n",
       "<tr>\n",
       "  <th>Dep. Variable:</th>        <td>sold amt</td>     <th>  R-squared:         </th>  <td>   0.709</td>  \n",
       "</tr>\n",
       "<tr>\n",
       "  <th>Model:</th>                   <td>OLS</td>       <th>  Adj. R-squared:    </th>  <td>   0.709</td>  \n",
       "</tr>\n",
       "<tr>\n",
       "  <th>Method:</th>             <td>Least Squares</td>  <th>  F-statistic:       </th>  <td>5.256e+05</td> \n",
       "</tr>\n",
       "<tr>\n",
       "  <th>Date:</th>             <td>Wed, 03 Jan 2018</td> <th>  Prob (F-statistic):</th>   <td>  0.00</td>   \n",
       "</tr>\n",
       "<tr>\n",
       "  <th>Time:</th>                 <td>17:44:47</td>     <th>  Log-Likelihood:    </th> <td>-1.4698e+06</td>\n",
       "</tr>\n",
       "<tr>\n",
       "  <th>No. Observations:</th>      <td>215628</td>      <th>  AIC:               </th>  <td>2.940e+06</td> \n",
       "</tr>\n",
       "<tr>\n",
       "  <th>Df Residuals:</th>          <td>215627</td>      <th>  BIC:               </th>  <td>2.940e+06</td> \n",
       "</tr>\n",
       "<tr>\n",
       "  <th>Df Model:</th>              <td>     1</td>      <th>                     </th>      <td> </td>     \n",
       "</tr>\n",
       "<tr>\n",
       "  <th>Covariance Type:</th>      <td>nonrobust</td>    <th>                     </th>      <td> </td>     \n",
       "</tr>\n",
       "</table>\n",
       "<table class=\"simpletable\">\n",
       "<tr>\n",
       "      <td></td>        <th>coef</th>     <th>std err</th>      <th>t</th>      <th>P>|t|</th>  <th>[0.025</th>    <th>0.975]</th>  \n",
       "</tr>\n",
       "<tr>\n",
       "  <th>btl sold</th> <td>   13.0152</td> <td>    0.018</td> <td>  724.951</td> <td> 0.000</td> <td>   12.980</td> <td>   13.050</td>\n",
       "</tr>\n",
       "</table>\n",
       "<table class=\"simpletable\">\n",
       "<tr>\n",
       "  <th>Omnibus:</th>       <td>307707.416</td> <th>  Durbin-Watson:     </th>    <td>   1.998</td>    \n",
       "</tr>\n",
       "<tr>\n",
       "  <th>Prob(Omnibus):</th>   <td> 0.000</td>   <th>  Jarque-Bera (JB):  </th> <td>38265054159.137</td>\n",
       "</tr>\n",
       "<tr>\n",
       "  <th>Skew:</th>            <td> 6.680</td>   <th>  Prob(JB):          </th>    <td>    0.00</td>    \n",
       "</tr>\n",
       "<tr>\n",
       "  <th>Kurtosis:</th>       <td>2066.693</td>  <th>  Cond. No.          </th>    <td>    1.00</td>    \n",
       "</tr>\n",
       "</table>"
      ],
      "text/plain": [
       "<class 'statsmodels.iolib.summary.Summary'>\n",
       "\"\"\"\n",
       "                            OLS Regression Results                            \n",
       "==============================================================================\n",
       "Dep. Variable:               sold amt   R-squared:                       0.709\n",
       "Model:                            OLS   Adj. R-squared:                  0.709\n",
       "Method:                 Least Squares   F-statistic:                 5.256e+05\n",
       "Date:                Wed, 03 Jan 2018   Prob (F-statistic):               0.00\n",
       "Time:                        17:44:47   Log-Likelihood:            -1.4698e+06\n",
       "No. Observations:              215628   AIC:                         2.940e+06\n",
       "Df Residuals:                  215627   BIC:                         2.940e+06\n",
       "Df Model:                           1                                         \n",
       "Covariance Type:            nonrobust                                         \n",
       "==============================================================================\n",
       "                 coef    std err          t      P>|t|      [0.025      0.975]\n",
       "------------------------------------------------------------------------------\n",
       "btl sold      13.0152      0.018    724.951      0.000      12.980      13.050\n",
       "==============================================================================\n",
       "Omnibus:                   307707.416   Durbin-Watson:                   1.998\n",
       "Prob(Omnibus):                  0.000   Jarque-Bera (JB):      38265054159.137\n",
       "Skew:                           6.680   Prob(JB):                         0.00\n",
       "Kurtosis:                    2066.693   Cond. No.                         1.00\n",
       "==============================================================================\n",
       "\n",
       "Warnings:\n",
       "[1] Standard Errors assume that the covariance matrix of the errors is correctly specified.\n",
       "\"\"\""
      ]
     },
     "execution_count": 35,
     "metadata": {},
     "output_type": "execute_result"
    }
   ],
   "source": [
    "targets = pd.DataFrame(data_2015['sold amt'], columns=['sold amt'])\n",
    "import statsmodels.api as sm \n",
    "x = data_2015['btl sold']\n",
    "y = targets\n",
    "model = sm.OLS(y,x).fit()\n",
    "predictions = model.predict(x)\n",
    "model.summary()"
   ]
  },
  {
   "cell_type": "code",
   "execution_count": 36,
   "metadata": {},
   "outputs": [
    {
     "data": {
      "image/png": "[encoded data removed]",
      "text/plain": [
       "<matplotlib.figure.Figure at 0x11b18bcc0>"
      ]
     },
     "metadata": {},
     "output_type": "display_data"
    },
    {
     "name": "stdout",
     "output_type": "stream",
     "text": [
      "MSE: 25623743145.0\n"
     ]
    }
   ],
   "source": [
    "plt.scatter(predictions, y, s=30, c='r', zorder=10)\n",
    "plt.xlabel('Predicted Values')\n",
    "plt.ylabel('Actual Values Total Sales per Store')\n",
    "plt.show()\n",
    "print('MSE:', model.mse_model)\n",
    "\n",
    "#The Rsquared value is higher for the total bottles sold, which makes sense as bottles sold increase so would the \n",
    "# the amount the state receives from the store. Its not a hundred percent as there are different botttle prices which \n",
    "#this model isn't taking into account "
   ]
  },
  {
   "cell_type": "markdown",
   "metadata": {},
   "source": [
    "# Model Based on Combinations"
   ]
  },
  {
   "cell_type": "code",
   "execution_count": 37,
   "metadata": {
    "collapsed": true
   },
   "outputs": [],
   "source": [
    "data_2015_month = pd.get_dummies(data_2015, columns = ['month'], drop_first = True)\n",
    "data_2015_macro = data_2015_month.drop(['Store Number','County','Category Name','sold amt','year','City'], axis = 1)\n"
   ]
  },
  {
   "cell_type": "code",
   "execution_count": 38,
   "metadata": {},
   "outputs": [
    {
     "data": {
      "text/html": [
       "<div>\n",
       "<style>\n",
       "    .dataframe thead tr:only-child th {\n",
       "        text-align: right;\n",
       "    }\n",
       "\n",
       "    .dataframe thead th {\n",
       "        text-align: left;\n",
       "    }\n",
       "\n",
       "    .dataframe tbody tr th {\n",
       "        vertical-align: top;\n",
       "    }\n",
       "</style>\n",
       "<table border=\"1\" class=\"dataframe\">\n",
       "  <thead>\n",
       "    <tr style=\"text-align: right;\">\n",
       "      <th></th>\n",
       "      <th>retail</th>\n",
       "      <th>btl sold</th>\n",
       "      <th>city_population</th>\n",
       "      <th>med_income</th>\n",
       "      <th>month_2</th>\n",
       "      <th>month_3</th>\n",
       "      <th>month_4</th>\n",
       "      <th>month_5</th>\n",
       "      <th>month_6</th>\n",
       "      <th>month_7</th>\n",
       "      <th>month_8</th>\n",
       "      <th>month_9</th>\n",
       "      <th>month_10</th>\n",
       "      <th>month_11</th>\n",
       "      <th>month_12</th>\n",
       "    </tr>\n",
       "  </thead>\n",
       "  <tbody>\n",
       "    <tr>\n",
       "      <th>0</th>\n",
       "      <td>6.75</td>\n",
       "      <td>12</td>\n",
       "      <td>2114</td>\n",
       "      <td>28083</td>\n",
       "      <td>0</td>\n",
       "      <td>0</td>\n",
       "      <td>0</td>\n",
       "      <td>0</td>\n",
       "      <td>0</td>\n",
       "      <td>0</td>\n",
       "      <td>0</td>\n",
       "      <td>0</td>\n",
       "      <td>0</td>\n",
       "      <td>1</td>\n",
       "      <td>0</td>\n",
       "    </tr>\n",
       "    <tr>\n",
       "      <th>4</th>\n",
       "      <td>10.80</td>\n",
       "      <td>12</td>\n",
       "      <td>2438</td>\n",
       "      <td>31118</td>\n",
       "      <td>0</td>\n",
       "      <td>0</td>\n",
       "      <td>0</td>\n",
       "      <td>0</td>\n",
       "      <td>0</td>\n",
       "      <td>0</td>\n",
       "      <td>1</td>\n",
       "      <td>0</td>\n",
       "      <td>0</td>\n",
       "      <td>0</td>\n",
       "      <td>0</td>\n",
       "    </tr>\n",
       "    <tr>\n",
       "      <th>5</th>\n",
       "      <td>19.98</td>\n",
       "      <td>6</td>\n",
       "      <td>128829</td>\n",
       "      <td>31718</td>\n",
       "      <td>0</td>\n",
       "      <td>0</td>\n",
       "      <td>1</td>\n",
       "      <td>0</td>\n",
       "      <td>0</td>\n",
       "      <td>0</td>\n",
       "      <td>0</td>\n",
       "      <td>0</td>\n",
       "      <td>0</td>\n",
       "      <td>0</td>\n",
       "      <td>0</td>\n",
       "    </tr>\n",
       "    <tr>\n",
       "      <th>6</th>\n",
       "      <td>9.99</td>\n",
       "      <td>3</td>\n",
       "      <td>24758</td>\n",
       "      <td>26305</td>\n",
       "      <td>0</td>\n",
       "      <td>0</td>\n",
       "      <td>0</td>\n",
       "      <td>0</td>\n",
       "      <td>0</td>\n",
       "      <td>0</td>\n",
       "      <td>1</td>\n",
       "      <td>0</td>\n",
       "      <td>0</td>\n",
       "      <td>0</td>\n",
       "      <td>0</td>\n",
       "    </tr>\n",
       "    <tr>\n",
       "      <th>7</th>\n",
       "      <td>23.63</td>\n",
       "      <td>2</td>\n",
       "      <td>7675</td>\n",
       "      <td>29672</td>\n",
       "      <td>0</td>\n",
       "      <td>0</td>\n",
       "      <td>0</td>\n",
       "      <td>0</td>\n",
       "      <td>1</td>\n",
       "      <td>0</td>\n",
       "      <td>0</td>\n",
       "      <td>0</td>\n",
       "      <td>0</td>\n",
       "      <td>0</td>\n",
       "      <td>0</td>\n",
       "    </tr>\n",
       "  </tbody>\n",
       "</table>\n",
       "</div>"
      ],
      "text/plain": [
       "   retail  btl sold  city_population  med_income  month_2  month_3  month_4  \\\n",
       "0    6.75        12             2114       28083        0        0        0   \n",
       "4   10.80        12             2438       31118        0        0        0   \n",
       "5   19.98         6           128829       31718        0        0        1   \n",
       "6    9.99         3            24758       26305        0        0        0   \n",
       "7   23.63         2             7675       29672        0        0        0   \n",
       "\n",
       "   month_5  month_6  month_7  month_8  month_9  month_10  month_11  month_12  \n",
       "0        0        0        0        0        0         0         1         0  \n",
       "4        0        0        0        1        0         0         0         0  \n",
       "5        0        0        0        0        0         0         0         0  \n",
       "6        0        0        0        1        0         0         0         0  \n",
       "7        0        1        0        0        0         0         0         0  "
      ]
     },
     "execution_count": 38,
     "metadata": {},
     "output_type": "execute_result"
    }
   ],
   "source": [
    "data_2015_macro.head()"
   ]
  },
  {
   "cell_type": "code",
   "execution_count": 39,
   "metadata": {},
   "outputs": [
    {
     "data": {
      "text/html": [
       "<table class=\"simpletable\">\n",
       "<caption>OLS Regression Results</caption>\n",
       "<tr>\n",
       "  <th>Dep. Variable:</th>        <td>sold amt</td>     <th>  R-squared:         </th>  <td>   0.738</td>  \n",
       "</tr>\n",
       "<tr>\n",
       "  <th>Model:</th>                   <td>OLS</td>       <th>  Adj. R-squared:    </th>  <td>   0.738</td>  \n",
       "</tr>\n",
       "<tr>\n",
       "  <th>Method:</th>             <td>Least Squares</td>  <th>  F-statistic:       </th>  <td>4.059e+04</td> \n",
       "</tr>\n",
       "<tr>\n",
       "  <th>Date:</th>             <td>Wed, 03 Jan 2018</td> <th>  Prob (F-statistic):</th>   <td>  0.00</td>   \n",
       "</tr>\n",
       "<tr>\n",
       "  <th>Time:</th>                 <td>17:44:50</td>     <th>  Log-Likelihood:    </th> <td>-1.4583e+06</td>\n",
       "</tr>\n",
       "<tr>\n",
       "  <th>No. Observations:</th>      <td>215628</td>      <th>  AIC:               </th>  <td>2.917e+06</td> \n",
       "</tr>\n",
       "<tr>\n",
       "  <th>Df Residuals:</th>          <td>215613</td>      <th>  BIC:               </th>  <td>2.917e+06</td> \n",
       "</tr>\n",
       "<tr>\n",
       "  <th>Df Model:</th>              <td>    15</td>      <th>                     </th>      <td> </td>     \n",
       "</tr>\n",
       "<tr>\n",
       "  <th>Covariance Type:</th>      <td>nonrobust</td>    <th>                     </th>      <td> </td>     \n",
       "</tr>\n",
       "</table>\n",
       "<table class=\"simpletable\">\n",
       "<tr>\n",
       "         <td></td>            <th>coef</th>     <th>std err</th>      <th>t</th>      <th>P>|t|</th>  <th>[0.025</th>    <th>0.975]</th>  \n",
       "</tr>\n",
       "<tr>\n",
       "  <th>retail</th>          <td>    6.4719</td> <td>    0.042</td> <td>  155.191</td> <td> 0.000</td> <td>    6.390</td> <td>    6.554</td>\n",
       "</tr>\n",
       "<tr>\n",
       "  <th>btl sold</th>        <td>   13.1352</td> <td>    0.018</td> <td>  712.610</td> <td> 0.000</td> <td>   13.099</td> <td>   13.171</td>\n",
       "</tr>\n",
       "<tr>\n",
       "  <th>city_population</th> <td>   -0.0001</td> <td> 7.32e-06</td> <td>  -14.432</td> <td> 0.000</td> <td>   -0.000</td> <td>-9.13e-05</td>\n",
       "</tr>\n",
       "<tr>\n",
       "  <th>med_income</th>      <td>   -0.0016</td> <td>  4.5e-05</td> <td>  -35.386</td> <td> 0.000</td> <td>   -0.002</td> <td>   -0.002</td>\n",
       "</tr>\n",
       "<tr>\n",
       "  <th>month_2</th>         <td>  -41.3039</td> <td>    2.110</td> <td>  -19.576</td> <td> 0.000</td> <td>  -45.439</td> <td>  -37.169</td>\n",
       "</tr>\n",
       "<tr>\n",
       "  <th>month_3</th>         <td>  -44.5730</td> <td>    2.034</td> <td>  -21.914</td> <td> 0.000</td> <td>  -48.559</td> <td>  -40.586</td>\n",
       "</tr>\n",
       "<tr>\n",
       "  <th>month_4</th>         <td>  -46.0450</td> <td>    2.028</td> <td>  -22.708</td> <td> 0.000</td> <td>  -50.019</td> <td>  -42.071</td>\n",
       "</tr>\n",
       "<tr>\n",
       "  <th>month_5</th>         <td>  -42.8223</td> <td>    2.071</td> <td>  -20.677</td> <td> 0.000</td> <td>  -46.882</td> <td>  -38.763</td>\n",
       "</tr>\n",
       "<tr>\n",
       "  <th>month_6</th>         <td>  -43.4167</td> <td>    1.961</td> <td>  -22.137</td> <td> 0.000</td> <td>  -47.261</td> <td>  -39.573</td>\n",
       "</tr>\n",
       "<tr>\n",
       "  <th>month_7</th>         <td>  -48.2094</td> <td>    2.020</td> <td>  -23.862</td> <td> 0.000</td> <td>  -52.169</td> <td>  -44.249</td>\n",
       "</tr>\n",
       "<tr>\n",
       "  <th>month_8</th>         <td>  -46.5900</td> <td>    2.031</td> <td>  -22.943</td> <td> 0.000</td> <td>  -50.570</td> <td>  -42.610</td>\n",
       "</tr>\n",
       "<tr>\n",
       "  <th>month_9</th>         <td>  -43.1530</td> <td>    2.006</td> <td>  -21.514</td> <td> 0.000</td> <td>  -47.084</td> <td>  -39.222</td>\n",
       "</tr>\n",
       "<tr>\n",
       "  <th>month_10</th>        <td>  -34.6836</td> <td>    2.056</td> <td>  -16.870</td> <td> 0.000</td> <td>  -38.713</td> <td>  -30.654</td>\n",
       "</tr>\n",
       "<tr>\n",
       "  <th>month_11</th>        <td>  -41.0628</td> <td>    2.045</td> <td>  -20.075</td> <td> 0.000</td> <td>  -45.072</td> <td>  -37.054</td>\n",
       "</tr>\n",
       "<tr>\n",
       "  <th>month_12</th>        <td>  -44.9403</td> <td>    1.894</td> <td>  -23.723</td> <td> 0.000</td> <td>  -48.653</td> <td>  -41.227</td>\n",
       "</tr>\n",
       "</table>\n",
       "<table class=\"simpletable\">\n",
       "<tr>\n",
       "  <th>Omnibus:</th>       <td>297911.196</td> <th>  Durbin-Watson:     </th>    <td>   1.997</td>    \n",
       "</tr>\n",
       "<tr>\n",
       "  <th>Prob(Omnibus):</th>   <td> 0.000</td>   <th>  Jarque-Bera (JB):  </th> <td>56769711318.348</td>\n",
       "</tr>\n",
       "<tr>\n",
       "  <th>Skew:</th>            <td> 6.131</td>   <th>  Prob(JB):          </th>    <td>    0.00</td>    \n",
       "</tr>\n",
       "<tr>\n",
       "  <th>Kurtosis:</th>       <td>2516.658</td>  <th>  Cond. No.          </th>    <td>8.43e+05</td>    \n",
       "</tr>\n",
       "</table>"
      ],
      "text/plain": [
       "<class 'statsmodels.iolib.summary.Summary'>\n",
       "\"\"\"\n",
       "                            OLS Regression Results                            \n",
       "==============================================================================\n",
       "Dep. Variable:               sold amt   R-squared:                       0.738\n",
       "Model:                            OLS   Adj. R-squared:                  0.738\n",
       "Method:                 Least Squares   F-statistic:                 4.059e+04\n",
       "Date:                Wed, 03 Jan 2018   Prob (F-statistic):               0.00\n",
       "Time:                        17:44:50   Log-Likelihood:            -1.4583e+06\n",
       "No. Observations:              215628   AIC:                         2.917e+06\n",
       "Df Residuals:                  215613   BIC:                         2.917e+06\n",
       "Df Model:                          15                                         \n",
       "Covariance Type:            nonrobust                                         \n",
       "===================================================================================\n",
       "                      coef    std err          t      P>|t|      [0.025      0.975]\n",
       "-----------------------------------------------------------------------------------\n",
       "retail              6.4719      0.042    155.191      0.000       6.390       6.554\n",
       "btl sold           13.1352      0.018    712.610      0.000      13.099      13.171\n",
       "city_population    -0.0001   7.32e-06    -14.432      0.000      -0.000   -9.13e-05\n",
       "med_income         -0.0016    4.5e-05    -35.386      0.000      -0.002      -0.002\n",
       "month_2           -41.3039      2.110    -19.576      0.000     -45.439     -37.169\n",
       "month_3           -44.5730      2.034    -21.914      0.000     -48.559     -40.586\n",
       "month_4           -46.0450      2.028    -22.708      0.000     -50.019     -42.071\n",
       "month_5           -42.8223      2.071    -20.677      0.000     -46.882     -38.763\n",
       "month_6           -43.4167      1.961    -22.137      0.000     -47.261     -39.573\n",
       "month_7           -48.2094      2.020    -23.862      0.000     -52.169     -44.249\n",
       "month_8           -46.5900      2.031    -22.943      0.000     -50.570     -42.610\n",
       "month_9           -43.1530      2.006    -21.514      0.000     -47.084     -39.222\n",
       "month_10          -34.6836      2.056    -16.870      0.000     -38.713     -30.654\n",
       "month_11          -41.0628      2.045    -20.075      0.000     -45.072     -37.054\n",
       "month_12          -44.9403      1.894    -23.723      0.000     -48.653     -41.227\n",
       "==============================================================================\n",
       "Omnibus:                   297911.196   Durbin-Watson:                   1.997\n",
       "Prob(Omnibus):                  0.000   Jarque-Bera (JB):      56769711318.348\n",
       "Skew:                           6.131   Prob(JB):                         0.00\n",
       "Kurtosis:                    2516.658   Cond. No.                     8.43e+05\n",
       "==============================================================================\n",
       "\n",
       "Warnings:\n",
       "[1] Standard Errors assume that the covariance matrix of the errors is correctly specified.\n",
       "[2] The condition number is large, 8.43e+05. This might indicate that there are\n",
       "strong multicollinearity or other numerical problems.\n",
       "\"\"\""
      ]
     },
     "execution_count": 39,
     "metadata": {},
     "output_type": "execute_result"
    }
   ],
   "source": [
    "targets = pd.DataFrame(data_2015['sold amt'], columns=['sold amt'])\n",
    "import statsmodels.api as sm \n",
    "x = data_2015_macro\n",
    "y = targets\n",
    "model = sm.OLS(y,x).fit()\n",
    "predictions = model.predict(x)\n",
    "model.summary()\n"
   ]
  },
  {
   "cell_type": "code",
   "execution_count": 40,
   "metadata": {},
   "outputs": [
    {
     "name": "stderr",
     "output_type": "stream",
     "text": [
      "/Users/Scott/anaconda/lib/python3.6/site-packages/ipykernel_launcher.py:1: SettingWithCopyWarning: \n",
      "A value is trying to be set on a copy of a slice from a DataFrame.\n",
      "Try using .loc[row_indexer,col_indexer] = value instead\n",
      "\n",
      "See the caveats in the documentation: http://pandas.pydata.org/pandas-docs/stable/indexing.html#indexing-view-versus-copy\n",
      "  \"\"\"Entry point for launching an IPython kernel.\n"
     ]
    }
   ],
   "source": [
    "data_2015['Predictions'] = predictions"
   ]
  },
  {
   "cell_type": "code",
   "execution_count": 41,
   "metadata": {},
   "outputs": [
    {
     "data": {
      "image/png": "[encoded data removed]",
      "text/plain": [
       "<matplotlib.figure.Figure at 0x1132baeb8>"
      ]
     },
     "metadata": {},
     "output_type": "display_data"
    },
    {
     "name": "stdout",
     "output_type": "stream",
     "text": [
      "MSE: 1779032049.3\n"
     ]
    }
   ],
   "source": [
    "plt.scatter(predictions, y, s=30, c='r', zorder=10)\n",
    "plt.xlabel('Predicted Values')\n",
    "plt.ylabel('Actual Values Total Sales per Store')\n",
    "plt.show()\n",
    "print('MSE:', model.mse_model)"
   ]
  },
  {
   "cell_type": "markdown",
   "metadata": {},
   "source": [
    "# Testing: Cross Validation with 2015 data and then with 2016 data"
   ]
  },
  {
   "cell_type": "code",
   "execution_count": 42,
   "metadata": {},
   "outputs": [
    {
     "name": "stdout",
     "output_type": "stream",
     "text": [
      "(150939, 15) (150939, 1)\n",
      "(64689, 15) (64689, 1)\n"
     ]
    }
   ],
   "source": [
    "from sklearn import datasets, linear_model\n",
    "from sklearn.model_selection import train_test_split\n",
    "X_train, X_test, y_train, y_test = train_test_split(x, y, test_size=0.3)\n",
    "print(X_train.shape, y_train.shape)\n",
    "print(X_test.shape, y_test.shape)"
   ]
  },
  {
   "cell_type": "code",
   "execution_count": 43,
   "metadata": {},
   "outputs": [
    {
     "name": "stdout",
     "output_type": "stream",
     "text": [
      "0.696099585906\n"
     ]
    }
   ],
   "source": [
    "lm = linear_model.LinearRegression()\n",
    "model = lm.fit(X_train, y_train)\n",
    "predictions = lm.predict(X_test)\n",
    "print(model.score(X_test, y_test))"
   ]
  },
  {
   "cell_type": "code",
   "execution_count": 44,
   "metadata": {},
   "outputs": [
    {
     "data": {
      "text/plain": [
       "<matplotlib.text.Text at 0x118871160>"
      ]
     },
     "execution_count": 44,
     "metadata": {},
     "output_type": "execute_result"
    },
    {
     "data": {
      "image/png": "[encoded data removed]",
      "text/plain": [
       "<matplotlib.figure.Figure at 0x113283470>"
      ]
     },
     "metadata": {},
     "output_type": "display_data"
    }
   ],
   "source": [
    "plt.scatter(y_test, predictions)\n",
    "plt.xlabel(\"True Values\")\n",
    "plt.ylabel(\"Predictions\")"
   ]
  },
  {
   "cell_type": "markdown",
   "metadata": {},
   "source": [
    "## 2016 Data using the same model"
   ]
  },
  {
   "cell_type": "code",
   "execution_count": 45,
   "metadata": {},
   "outputs": [
    {
     "name": "stdout",
     "output_type": "stream",
     "text": [
      "(35212, 6) (35212, 1)\n",
      "(15092, 6) (15092, 1)\n"
     ]
    }
   ],
   "source": [
    "data_2016_month = pd.get_dummies(data_2016, columns = ['month'], drop_first = True)\n",
    "data_2016_macro = data_2016_month.drop(['Store Number','County','Category Name','sold amt','year','City'], axis = 1)\n",
    "\n",
    "targets = pd.DataFrame(data_2016['sold amt'], columns=['sold amt'])\n",
    "import statsmodels.api as sm \n",
    "x = data_2016_macro\n",
    "y = targets\n",
    "model = sm.OLS(y,x).fit()\n",
    "predictions = model.predict(x)\n",
    "\n",
    "X_train, X_test, y_train, y_test = train_test_split(x, y, test_size=0.3)\n",
    "print(X_train.shape, y_train.shape)\n",
    "print(X_test.shape, y_test.shape)"
   ]
  },
  {
   "cell_type": "code",
   "execution_count": 46,
   "metadata": {},
   "outputs": [
    {
     "name": "stdout",
     "output_type": "stream",
     "text": [
      "0.80135535688\n"
     ]
    }
   ],
   "source": [
    "lm = linear_model.LinearRegression()\n",
    "model = lm.fit(X_train, y_train)\n",
    "predictions = lm.predict(X_test)\n",
    "print(model.score(X_test, y_test))\n",
    "#Sadly the score went down almost 10 percent comapred to the r-squared on the previous model. "
   ]
  },
  {
   "cell_type": "code",
   "execution_count": 47,
   "metadata": {},
   "outputs": [
    {
     "data": {
      "text/plain": [
       "<matplotlib.text.Text at 0x1189140f0>"
      ]
     },
     "execution_count": 47,
     "metadata": {},
     "output_type": "execute_result"
    },
    {
     "data": {
      "image/png": "[encoded data removed]",
      "text/plain": [
       "<matplotlib.figure.Figure at 0x11b0d92b0>"
      ]
     },
     "metadata": {},
     "output_type": "display_data"
    }
   ],
   "source": [
    "plt.scatter(y_test, predictions)\n",
    "plt.xlabel(\"True Values\")\n",
    "plt.ylabel(\"Predictions\")"
   ]
  },
  {
   "cell_type": "markdown",
   "metadata": {},
   "source": [
    "# Bias Variance Trade Off\n",
    "\n",
    "As I made my final model less complicated by not including a dummy variable for all the cities, I decreased the Variance by not making it too complicated. However, by doing so my bias increased. I wouldn't say it increased that much, just because I still had a decent amount of independenct variables I was using to predict my depent variable total liquor sales. "
   ]
  },
  {
   "cell_type": "markdown",
   "metadata": {},
   "source": [
    "# Table of the best Performing Stores and the Predictions "
   ]
  },
  {
   "cell_type": "code",
   "execution_count": 48,
   "metadata": {},
   "outputs": [
    {
     "data": {
      "text/html": [
       "<div>\n",
       "<style>\n",
       "    .dataframe thead tr:only-child th {\n",
       "        text-align: right;\n",
       "    }\n",
       "\n",
       "    .dataframe thead th {\n",
       "        text-align: left;\n",
       "    }\n",
       "\n",
       "    .dataframe tbody tr th {\n",
       "        vertical-align: top;\n",
       "    }\n",
       "</style>\n",
       "<table border=\"1\" class=\"dataframe\">\n",
       "  <thead>\n",
       "    <tr style=\"text-align: right;\">\n",
       "      <th></th>\n",
       "      <th></th>\n",
       "      <th>sold amt</th>\n",
       "      <th>Predictions</th>\n",
       "      <th>city_population</th>\n",
       "    </tr>\n",
       "    <tr>\n",
       "      <th>City</th>\n",
       "      <th>Store Number</th>\n",
       "      <th></th>\n",
       "      <th></th>\n",
       "      <th></th>\n",
       "    </tr>\n",
       "  </thead>\n",
       "  <tbody>\n",
       "    <tr>\n",
       "      <th rowspan=\"2\" valign=\"top\">Des Moines</th>\n",
       "      <th>2633</th>\n",
       "      <td>997924.42</td>\n",
       "      <td>845366.145245</td>\n",
       "      <td>414167820</td>\n",
       "    </tr>\n",
       "    <tr>\n",
       "      <th>4829</th>\n",
       "      <td>874664.18</td>\n",
       "      <td>714484.060433</td>\n",
       "      <td>380468580</td>\n",
       "    </tr>\n",
       "    <tr>\n",
       "      <th>Cedar Rapids</th>\n",
       "      <th>3385</th>\n",
       "      <td>439584.35</td>\n",
       "      <td>365733.605714</td>\n",
       "      <td>61451433</td>\n",
       "    </tr>\n",
       "    <tr>\n",
       "      <th>Iowa City</th>\n",
       "      <th>2512</th>\n",
       "      <td>419534.61</td>\n",
       "      <td>405296.641908</td>\n",
       "      <td>98769000</td>\n",
       "    </tr>\n",
       "    <tr>\n",
       "      <th>Windsor Heights</th>\n",
       "      <th>3420</th>\n",
       "      <td>348837.36</td>\n",
       "      <td>280583.963047</td>\n",
       "      <td>1647256</td>\n",
       "    </tr>\n",
       "  </tbody>\n",
       "</table>\n",
       "</div>"
      ],
      "text/plain": [
       "                               sold amt    Predictions  city_population\n",
       "City            Store Number                                           \n",
       "Des Moines      2633          997924.42  845366.145245        414167820\n",
       "                4829          874664.18  714484.060433        380468580\n",
       "Cedar Rapids    3385          439584.35  365733.605714         61451433\n",
       "Iowa City       2512          419534.61  405296.641908         98769000\n",
       "Windsor Heights 3420          348837.36  280583.963047          1647256"
      ]
     },
     "execution_count": 48,
     "metadata": {},
     "output_type": "execute_result"
    }
   ],
   "source": [
    "data_2015.groupby(['City','Store Number'])['sold amt','Predictions','city_population'].sum().sort_values('sold amt', ascending = False).head()"
   ]
  },
  {
   "cell_type": "code",
   "execution_count": 49,
   "metadata": {
    "collapsed": true
   },
   "outputs": [],
   "source": [
    "city_to_store = data_2015.groupby(['City','city_population'])['Store Number'].count().reset_index()"
   ]
  },
  {
   "cell_type": "code",
   "execution_count": 51,
   "metadata": {},
   "outputs": [
    {
     "data": {
      "text/html": [
       "<div>\n",
       "<style>\n",
       "    .dataframe thead tr:only-child th {\n",
       "        text-align: right;\n",
       "    }\n",
       "\n",
       "    .dataframe thead th {\n",
       "        text-align: left;\n",
       "    }\n",
       "\n",
       "    .dataframe tbody tr th {\n",
       "        vertical-align: top;\n",
       "    }\n",
       "</style>\n",
       "<table border=\"1\" class=\"dataframe\">\n",
       "  <thead>\n",
       "    <tr style=\"text-align: right;\">\n",
       "      <th></th>\n",
       "      <th>City</th>\n",
       "      <th>city_population</th>\n",
       "      <th>Store Number</th>\n",
       "      <th>ratio</th>\n",
       "    </tr>\n",
       "  </thead>\n",
       "  <tbody>\n",
       "    <tr>\n",
       "      <th>278</th>\n",
       "      <td>Robins</td>\n",
       "      <td>3357</td>\n",
       "      <td>1</td>\n",
       "      <td>3357.000000</td>\n",
       "    </tr>\n",
       "    <tr>\n",
       "      <th>143</th>\n",
       "      <td>Griswold</td>\n",
       "      <td>1111</td>\n",
       "      <td>5</td>\n",
       "      <td>222.200000</td>\n",
       "    </tr>\n",
       "    <tr>\n",
       "      <th>217</th>\n",
       "      <td>Melbourne</td>\n",
       "      <td>891</td>\n",
       "      <td>5</td>\n",
       "      <td>178.200000</td>\n",
       "    </tr>\n",
       "    <tr>\n",
       "      <th>9</th>\n",
       "      <td>Alta</td>\n",
       "      <td>2056</td>\n",
       "      <td>13</td>\n",
       "      <td>158.153846</td>\n",
       "    </tr>\n",
       "    <tr>\n",
       "      <th>306</th>\n",
       "      <td>Stanwood</td>\n",
       "      <td>572</td>\n",
       "      <td>4</td>\n",
       "      <td>143.000000</td>\n",
       "    </tr>\n",
       "  </tbody>\n",
       "</table>\n",
       "</div>"
      ],
      "text/plain": [
       "          City  city_population  Store Number        ratio\n",
       "278     Robins             3357             1  3357.000000\n",
       "143   Griswold             1111             5   222.200000\n",
       "217  Melbourne              891             5   178.200000\n",
       "9         Alta             2056            13   158.153846\n",
       "306   Stanwood              572             4   143.000000"
      ]
     },
     "execution_count": 51,
     "metadata": {},
     "output_type": "execute_result"
    }
   ],
   "source": [
    "city_to_store['ratio'] = (city_to_store['city_population']/city_to_store['Store Number'])\n",
    "city_to_store.sort_values('ratio', ascending = False).head()"
   ]
  },
  {
   "cell_type": "markdown",
   "metadata": {},
   "source": [
    "# Executive Summary\n",
    "\n",
    "\n",
    "Present your conclusions and results. If you have more than one interesting model feel free to include more than one along with a discussion. Use your work in this notebook to prepare your write-up."
   ]
  },
  {
   "cell_type": "markdown",
   "metadata": {
    "collapsed": true
   },
   "source": [
    "I understand you want to buy liquor stores in Iowa and of course the perfect location is important. After research on our end we did not find the medium household income of a city or seasonality(months of the year) to be that important toward predicting future sales. Our numbers did show that with the rise of population, one would see a rise in sales for liquor in that city. Although this may not seem very helpful, it can be utilized toward your advantage. If we know that a cities medium income and seasonality does not play that big of a role and that population size just plays a normal role in prediction total sales, we can start focusing our attention on other matters. Now that we have gotten the macro identifiers covered, I would suggest picking a location were the micro differences could start affecting liquor sales. For instance the fixed costs, water, electirc and salaries of employees. Our company could look further into identifying the cheapest rent for the biggest value of return. As city location and seasonality do not play a major role, you can also decide one which city culture maybe fits your vibe. "
   ]
  }
 ],
 "metadata": {
  "anaconda-cloud": {},
  "kernelspec": {
   "display_name": "Python 3",
   "language": "python",
   "name": "python3"
  },
  "language_info": {
   "codemirror_mode": {
    "name": "ipython",
    "version": 3
   },
   "file_extension": ".py",
   "mimetype": "text/x-python",
   "name": "python",
   "nbconvert_exporter": "python",
   "pygments_lexer": "ipython3",
   "version": "3.6.2"
  }
 },
 "nbformat": 4,
 "nbformat_minor": 1
}
